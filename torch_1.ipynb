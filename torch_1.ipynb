{
  "nbformat": 4,
  "nbformat_minor": 0,
  "metadata": {
    "colab": {
      "provenance": [],
      "authorship_tag": "ABX9TyPf1R2iZoaAXmuY83j+vbfy",
      "include_colab_link": true
    },
    "kernelspec": {
      "name": "python3",
      "display_name": "Python 3"
    },
    "language_info": {
      "name": "python"
    }
  },
  "cells": [
    {
      "cell_type": "markdown",
      "metadata": {
        "id": "view-in-github",
        "colab_type": "text"
      },
      "source": [
        "<a href=\"https://colab.research.google.com/github/deep-l3arn3r/tutorials/blob/main/torch_1.ipynb\" target=\"_parent\"><img src=\"https://colab.research.google.com/assets/colab-badge.svg\" alt=\"Open In Colab\"/></a>"
      ]
    },
    {
      "cell_type": "code",
      "execution_count": 34,
      "metadata": {
        "colab": {
          "base_uri": "https://localhost:8080/"
        },
        "id": "nY3730Rn-E6H",
        "outputId": "7c8d4f18-c18e-4b16-b7cd-2d45237b7e42"
      },
      "outputs": [
        {
          "output_type": "execute_result",
          "data": {
            "text/plain": [
              "<torch._C.Generator at 0x7de6140b1530>"
            ]
          },
          "metadata": {},
          "execution_count": 34
        }
      ],
      "source": [
        "import torch\n",
        "from torch import nn # nn contains all of PyTorch's building blocks for neural networks\n",
        "import matplotlib.pyplot as plt\n",
        "\n",
        "torch.manual_seed(3)"
      ]
    },
    {
      "cell_type": "markdown",
      "source": [
        " ***Q1 Creating the Dataset***"
      ],
      "metadata": {
        "id": "s1fHieJT-UKi"
      }
    },
    {
      "cell_type": "code",
      "source": [
        "X = torch.arange(0,100).unsqueeze(dim=1).type(torch.float32)\n",
        "X[:5], X.shape"
      ],
      "metadata": {
        "colab": {
          "base_uri": "https://localhost:8080/"
        },
        "id": "f1nEtFmw-OYs",
        "outputId": "c847d7bd-dc32-4811-99e5-cfbf3c397887"
      },
      "execution_count": 35,
      "outputs": [
        {
          "output_type": "execute_result",
          "data": {
            "text/plain": [
              "(tensor([[0.],\n",
              "         [1.],\n",
              "         [2.],\n",
              "         [3.],\n",
              "         [4.]]),\n",
              " torch.Size([100, 1]))"
            ]
          },
          "metadata": {},
          "execution_count": 35
        }
      ]
    },
    {
      "cell_type": "code",
      "source": [
        "weight = 0.3\n",
        "bias = 0.9\n",
        "\n",
        "y = weight*X + bias\n",
        "y[:5], y.shape"
      ],
      "metadata": {
        "colab": {
          "base_uri": "https://localhost:8080/"
        },
        "id": "z58QOutO-sBd",
        "outputId": "ccdcac58-8ebb-41b8-8213-1d2e878ef8ae"
      },
      "execution_count": 36,
      "outputs": [
        {
          "output_type": "execute_result",
          "data": {
            "text/plain": [
              "(tensor([[0.9000],\n",
              "         [1.2000],\n",
              "         [1.5000],\n",
              "         [1.8000],\n",
              "         [2.1000]]),\n",
              " torch.Size([100, 1]))"
            ]
          },
          "metadata": {},
          "execution_count": 36
        }
      ]
    },
    {
      "cell_type": "code",
      "source": [
        "split = int(0.8 * len(X))\n",
        "X_train, y_train = X[:split], y[:split]\n",
        "X_test, y_test = X[split:], y[split:]\n",
        "\n",
        "X_train.shape, X_test.shape"
      ],
      "metadata": {
        "colab": {
          "base_uri": "https://localhost:8080/"
        },
        "id": "UhRnx9uE-9ft",
        "outputId": "92da2bfb-f610-4e66-fcdf-5b641f7e8a2d"
      },
      "execution_count": 37,
      "outputs": [
        {
          "output_type": "execute_result",
          "data": {
            "text/plain": [
              "(torch.Size([80, 1]), torch.Size([20, 1]))"
            ]
          },
          "metadata": {},
          "execution_count": 37
        }
      ]
    },
    {
      "cell_type": "code",
      "source": [
        "def plot_predictions(train_data=X_train,\n",
        "                     train_labels=y_train,\n",
        "                     test_data=X_test,\n",
        "                     test_labels=y_test,\n",
        "                     predictions=None):\n",
        "  \"\"\"\n",
        "  Plots training data, test data and compares predictions.\n",
        "  \"\"\"\n",
        "  plt.figure(figsize=(10, 7))\n",
        "\n",
        "  # Plot training data in blue\n",
        "  plt.scatter(train_data, train_labels, c=\"b\", s=4, label=\"Training data\")\n",
        "\n",
        "  # Plot test data in green\n",
        "  plt.scatter(test_data, test_labels, c=\"g\", s=4, label=\"Testing data\")\n",
        "\n",
        "  if predictions is not None:\n",
        "    # Plot the predictions in red (predictions were made on the test data)\n",
        "    plt.scatter(test_data, predictions, c=\"r\", s=4, label=\"Predictions\")\n",
        "\n",
        "  # Show the legend\n",
        "  plt.legend(prop={\"size\": 14});"
      ],
      "metadata": {
        "id": "IifsTzMQ_qec"
      },
      "execution_count": 38,
      "outputs": []
    },
    {
      "cell_type": "code",
      "source": [
        "plot_predictions()"
      ],
      "metadata": {
        "colab": {
          "base_uri": "https://localhost:8080/",
          "height": 599
        },
        "id": "fCrPawXXAEKK",
        "outputId": "f29565cd-84cf-43e7-d710-21fa1895d629"
      },
      "execution_count": 39,
      "outputs": [
        {
          "output_type": "display_data",
          "data": {
            "text/plain": [
              "<Figure size 1000x700 with 1 Axes>"
            ],
            "image/png": "[encoded data removed]"
          },
          "metadata": {}
        }
      ]
    },
    {
      "cell_type": "markdown",
      "source": [
        "***Q2 Creating the Model***"
      ],
      "metadata": {
        "id": "iHfp6ERtAYfT"
      }
    },
    {
      "cell_type": "code",
      "source": [
        "torch.manual_seed(3)\n",
        "\n",
        "class LinearRegression(nn.Module):\n",
        "  def __init__(self):\n",
        "    super().__init__()\n",
        "    self.linear = nn.Linear(1,1)\n",
        "\n",
        "  def forward(self, X):\n",
        "    return self.linear(X)"
      ],
      "metadata": {
        "id": "vVcS42rOAi1K"
      },
      "execution_count": 40,
      "outputs": []
    },
    {
      "cell_type": "code",
      "source": [
        "model = LinearRegression()\n",
        "model.state_dict()"
      ],
      "metadata": {
        "colab": {
          "base_uri": "https://localhost:8080/"
        },
        "id": "_nHjbqCmBGpm",
        "outputId": "3f87e8c9-ab4f-43c9-9864-5f4503b12092"
      },
      "execution_count": 41,
      "outputs": [
        {
          "output_type": "execute_result",
          "data": {
            "text/plain": [
              "OrderedDict([('linear.weight', tensor([[-0.9915]])),\n",
              "             ('linear.bias', tensor([-0.7889]))])"
            ]
          },
          "metadata": {},
          "execution_count": 41
        }
      ]
    },
    {
      "cell_type": "code",
      "source": [
        "model.state_dict()['linear.weight'].dtype"
      ],
      "metadata": {
        "colab": {
          "base_uri": "https://localhost:8080/"
        },
        "id": "hCLnZM0TEK3W",
        "outputId": "a99e42c5-6bb2-4288-b814-28b0172bec27"
      },
      "execution_count": 42,
      "outputs": [
        {
          "output_type": "execute_result",
          "data": {
            "text/plain": [
              "torch.float32"
            ]
          },
          "metadata": {},
          "execution_count": 42
        }
      ]
    },
    {
      "cell_type": "markdown",
      "source": [
        "***Q3 Loss function***"
      ],
      "metadata": {
        "id": "4tn_4T3NB9Gi"
      }
    },
    {
      "cell_type": "code",
      "source": [
        "LR = 0.0001\n",
        "params = model.parameters()\n",
        "\n",
        "loss_fn = nn.L1Loss()\n",
        "optim = torch.optim.SGD(params, LR)\n",
        "\n",
        "train_losses, test_losses = [], []\n",
        "\n",
        "for epoch in range(300):\n",
        "  model.train()\n",
        "\n",
        "  y_pred_train = model(X_train)\n",
        "  y_pred_train = y_pred_train.type(torch.float64)\n",
        "\n",
        "  loss = loss_fn(y_pred_train, y_train)\n",
        "  train_losses.append(loss.item())\n",
        "\n",
        "  if epoch%20==0:\n",
        "    print('At epoch {}, Train loss {}'.format(epoch, loss.item()))\n",
        "\n",
        "  optim.zero_grad()\n",
        "\n",
        "  loss.backward()\n",
        "  optim.step()\n",
        "\n",
        "  with torch.inference_mode():\n",
        "    y_pred_test = model(X_test)\n",
        "\n",
        "    test_loss = loss_fn(y_pred_test, y_test)\n",
        "    test_losses.append(test_loss.item())\n",
        "\n",
        "    if epoch%20==0:\n",
        "      print('At epoch {}, Test loss {}'.format(epoch, test_loss.item()))\n",
        "\n"
      ],
      "metadata": {
        "colab": {
          "base_uri": "https://localhost:8080/"
        },
        "id": "3m7ikT4iCbhi",
        "outputId": "caf9b57f-0aa3-48c7-e5a2-22ee5f2f0ef9"
      },
      "execution_count": 43,
      "outputs": [
        {
          "output_type": "stream",
          "name": "stdout",
          "text": [
            "At epoch 0, Train loss 52.70204345136881\n",
            "At epoch 0, Test loss 116.92207336425781\n",
            "At epoch 20, Train loss 49.5795432344079\n",
            "At epoch 20, Test loss 109.84956359863281\n",
            "At epoch 40, Train loss 46.45704306513071\n",
            "At epoch 40, Test loss 102.77705383300781\n",
            "At epoch 60, Train loss 43.33454252034426\n",
            "At epoch 60, Test loss 95.70457458496094\n",
            "At epoch 80, Train loss 40.212043066322806\n",
            "At epoch 80, Test loss 88.63206481933594\n",
            "At epoch 100, Train loss 37.0895422026515\n",
            "At epoch 100, Test loss 81.55956268310547\n",
            "At epoch 120, Train loss 33.96704237908125\n",
            "At epoch 120, Test loss 74.48706817626953\n",
            "At epoch 140, Train loss 30.84454213529825\n",
            "At epoch 140, Test loss 67.4145736694336\n",
            "At epoch 160, Train loss 27.72204194813967\n",
            "At epoch 160, Test loss 60.342063903808594\n",
            "At epoch 180, Train loss 24.59954195767641\n",
            "At epoch 180, Test loss 53.269569396972656\n",
            "At epoch 200, Train loss 21.477041609585285\n",
            "At epoch 200, Test loss 46.19706726074219\n",
            "At epoch 220, Train loss 18.354541389644147\n",
            "At epoch 220, Test loss 39.124568939208984\n",
            "At epoch 240, Train loss 15.23204122632742\n",
            "At epoch 240, Test loss 32.052066802978516\n",
            "At epoch 260, Train loss 12.10954104810953\n",
            "At epoch 260, Test loss 24.97956657409668\n",
            "At epoch 280, Train loss 8.987040857970715\n",
            "At epoch 280, Test loss 17.907068252563477\n"
          ]
        }
      ]
    },
    {
      "cell_type": "code",
      "source": [
        "# plt.plot(list(range(0,300)), train_losses, label=\"Train loss\")\n",
        "plt.plot(list(range(0,300)), test_losses, label=\"Test loss\")\n",
        "plt.title(\"Training and test loss curves\")\n",
        "plt.ylabel(\"Loss\")\n",
        "plt.xlabel(\"Epochs\")\n",
        "plt.legend();"
      ],
      "metadata": {
        "colab": {
          "base_uri": "https://localhost:8080/",
          "height": 472
        },
        "id": "5r91A8V6DVZe",
        "outputId": "1de2b03e-6136-4892-812a-95529c73b890"
      },
      "execution_count": 44,
      "outputs": [
        {
          "output_type": "display_data",
          "data": {
            "text/plain": [
              "<Figure size 640x480 with 1 Axes>"
            ],
            "image/png": "[encoded data removed]"
          },
          "metadata": {}
        }
      ]
    },
    {
      "cell_type": "markdown",
      "source": [
        "***Q5 saving and loading***"
      ],
      "metadata": {
        "id": "AVjm1paRRftq"
      }
    },
    {
      "cell_type": "code",
      "source": [
        "torch.save(obj=model.state_dict(), f='model.pth')"
      ],
      "metadata": {
        "id": "qsCa89r7DetM"
      },
      "execution_count": 45,
      "outputs": []
    },
    {
      "cell_type": "code",
      "source": [
        "loaded_model_0 = LinearRegression()\n",
        "\n",
        "# Load the state_dict of our saved model (this will update the new instance of our model with trained weights)\n",
        "loaded_model_0.load_state_dict(torch.load(f='model.pth'))"
      ],
      "metadata": {
        "colab": {
          "base_uri": "https://localhost:8080/"
        },
        "id": "Bj-JH9t2Rv6P",
        "outputId": "a15bd6af-f44d-4f35-be89-cf200541a865"
      },
      "execution_count": 46,
      "outputs": [
        {
          "output_type": "execute_result",
          "data": {
            "text/plain": [
              "<All keys matched successfully>"
            ]
          },
          "metadata": {},
          "execution_count": 46
        }
      ]
    },
    {
      "cell_type": "code",
      "source": [
        "loaded_model_0.eval()\n",
        "\n",
        "# 2. Use the inference mode context manager to make predictions\n",
        "with torch.inference_mode():\n",
        "    loaded_model_preds = loaded_model_0(X_test) # perform a forward pass on the test data with the loaded model"
      ],
      "metadata": {
        "id": "kECoRZisSFmB"
      },
      "execution_count": 47,
      "outputs": []
    },
    {
      "cell_type": "code",
      "source": [
        "loaded_model_preds == y_pred_test"
      ],
      "metadata": {
        "colab": {
          "base_uri": "https://localhost:8080/"
        },
        "id": "NIEqO6aISLU4",
        "outputId": "0c96d3eb-197c-4702-a637-51cda4be5c72"
      },
      "execution_count": 48,
      "outputs": [
        {
          "output_type": "execute_result",
          "data": {
            "text/plain": [
              "tensor([[True],\n",
              "        [True],\n",
              "        [True],\n",
              "        [True],\n",
              "        [True],\n",
              "        [True],\n",
              "        [True],\n",
              "        [True],\n",
              "        [True],\n",
              "        [True],\n",
              "        [True],\n",
              "        [True],\n",
              "        [True],\n",
              "        [True],\n",
              "        [True],\n",
              "        [True],\n",
              "        [True],\n",
              "        [True],\n",
              "        [True],\n",
              "        [True]])"
            ]
          },
          "metadata": {},
          "execution_count": 48
        }
      ]
    },
    {
      "cell_type": "code",
      "source": [
        "loaded_model_0.state_dict()"
      ],
      "metadata": {
        "colab": {
          "base_uri": "https://localhost:8080/"
        },
        "id": "q7tKueECSXG_",
        "outputId": "3626ef36-a141-443a-882e-7c50cdf23b71"
      },
      "execution_count": 27,
      "outputs": [
        {
          "output_type": "execute_result",
          "data": {
            "text/plain": [
              "OrderedDict([('linear.weight', tensor([[0.3207]])),\n",
              "             ('linear.bias', tensor([-0.4837]))])"
            ]
          },
          "metadata": {},
          "execution_count": 27
        }
      ]
    },
    {
      "cell_type": "code",
      "source": [],
      "metadata": {
        "id": "yhmxXY9rSwKe"
      },
      "execution_count": null,
      "outputs": []
    }
  ]
}