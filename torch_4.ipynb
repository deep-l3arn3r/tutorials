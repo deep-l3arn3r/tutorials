{
  "nbformat": 4,
  "nbformat_minor": 0,
  "metadata": {
    "colab": {
      "provenance": [],
      "authorship_tag": "ABX9TyMaXUUrTRnP/OlIV+6CxZ9t",
      "include_colab_link": true
    },
    "kernelspec": {
      "name": "python3",
      "display_name": "Python 3"
    },
    "language_info": {
      "name": "python"
    },
    "widgets": {
      "application/vnd.jupyter.widget-state+json": {
        "1d452f93a4414a5099359f0673e1e8c5": {
          "model_module": "@jupyter-widgets/controls",
          "model_name": "HBoxModel",
          "model_module_version": "1.5.0",
          "state": {
            "_dom_classes": [],
            "_model_module": "@jupyter-widgets/controls",
            "_model_module_version": "1.5.0",
            "_model_name": "HBoxModel",
            "_view_count": null,
            "_view_module": "@jupyter-widgets/controls",
            "_view_module_version": "1.5.0",
            "_view_name": "HBoxView",
            "box_style": "",
            "children": [
              "IPY_MODEL_514f18f48718475aa5da03570de51bdf",
              "IPY_MODEL_3027534a5bfc488ea201457c97cdd2ee",
              "IPY_MODEL_f8af63db55884a3fb9325b7bd164eb78"
            ],
            "layout": "IPY_MODEL_69470d7f3a9348509f9c3843232ecdb3"
          }
        },
        "514f18f48718475aa5da03570de51bdf": {
          "model_module": "@jupyter-widgets/controls",
          "model_name": "HTMLModel",
          "model_module_version": "1.5.0",
          "state": {
            "_dom_classes": [],
            "_model_module": "@jupyter-widgets/controls",
            "_model_module_version": "1.5.0",
            "_model_name": "HTMLModel",
            "_view_count": null,
            "_view_module": "@jupyter-widgets/controls",
            "_view_module_version": "1.5.0",
            "_view_name": "HTMLView",
            "description": "",
            "description_tooltip": null,
            "layout": "IPY_MODEL_d7c38d0c1c874a7dbe01fe1eb9c67269",
            "placeholder": "​",
            "style": "IPY_MODEL_298eb85697ae4a49ae1cd6359f3aa6e8",
            "value": "100%"
          }
        },
        "3027534a5bfc488ea201457c97cdd2ee": {
          "model_module": "@jupyter-widgets/controls",
          "model_name": "FloatProgressModel",
          "model_module_version": "1.5.0",
          "state": {
            "_dom_classes": [],
            "_model_module": "@jupyter-widgets/controls",
            "_model_module_version": "1.5.0",
            "_model_name": "FloatProgressModel",
            "_view_count": null,
            "_view_module": "@jupyter-widgets/controls",
            "_view_module_version": "1.5.0",
            "_view_name": "ProgressView",
            "bar_style": "success",
            "description": "",
            "description_tooltip": null,
            "layout": "IPY_MODEL_e975bd51dfa04455bafac5d6b93c258a",
            "max": 50,
            "min": 0,
            "orientation": "horizontal",
            "style": "IPY_MODEL_3609d9b84968496caf02ac9a01f7bdf0",
            "value": 50
          }
        },
        "f8af63db55884a3fb9325b7bd164eb78": {
          "model_module": "@jupyter-widgets/controls",
          "model_name": "HTMLModel",
          "model_module_version": "1.5.0",
          "state": {
            "_dom_classes": [],
            "_model_module": "@jupyter-widgets/controls",
            "_model_module_version": "1.5.0",
            "_model_name": "HTMLModel",
            "_view_count": null,
            "_view_module": "@jupyter-widgets/controls",
            "_view_module_version": "1.5.0",
            "_view_name": "HTMLView",
            "description": "",
            "description_tooltip": null,
            "layout": "IPY_MODEL_c27cc7990a5b49e8995a9faef70d2b33",
            "placeholder": "​",
            "style": "IPY_MODEL_56a311bb2ba242f5928ad5ec0da09bc4",
            "value": " 50/50 [01:19&lt;00:00,  1.52s/it]"
          }
        },
        "69470d7f3a9348509f9c3843232ecdb3": {
          "model_module": "@jupyter-widgets/base",
          "model_name": "LayoutModel",
          "model_module_version": "1.2.0",
          "state": {
            "_model_module": "@jupyter-widgets/base",
            "_model_module_version": "1.2.0",
            "_model_name": "LayoutModel",
            "_view_count": null,
            "_view_module": "@jupyter-widgets/base",
            "_view_module_version": "1.2.0",
            "_view_name": "LayoutView",
            "align_content": null,
            "align_items": null,
            "align_self": null,
            "border": null,
            "bottom": null,
            "display": null,
            "flex": null,
            "flex_flow": null,
            "grid_area": null,
            "grid_auto_columns": null,
            "grid_auto_flow": null,
            "grid_auto_rows": null,
            "grid_column": null,
            "grid_gap": null,
            "grid_row": null,
            "grid_template_areas": null,
            "grid_template_columns": null,
            "grid_template_rows": null,
            "height": null,
            "justify_content": null,
            "justify_items": null,
            "left": null,
            "margin": null,
            "max_height": null,
            "max_width": null,
            "min_height": null,
            "min_width": null,
            "object_fit": null,
            "object_position": null,
            "order": null,
            "overflow": null,
            "overflow_x": null,
            "overflow_y": null,
            "padding": null,
            "right": null,
            "top": null,
            "visibility": null,
            "width": null
          }
        },
        "d7c38d0c1c874a7dbe01fe1eb9c67269": {
          "model_module": "@jupyter-widgets/base",
          "model_name": "LayoutModel",
          "model_module_version": "1.2.0",
          "state": {
            "_model_module": "@jupyter-widgets/base",
            "_model_module_version": "1.2.0",
            "_model_name": "LayoutModel",
            "_view_count": null,
            "_view_module": "@jupyter-widgets/base",
            "_view_module_version": "1.2.0",
            "_view_name": "LayoutView",
            "align_content": null,
            "align_items": null,
            "align_self": null,
            "border": null,
            "bottom": null,
            "display": null,
            "flex": null,
            "flex_flow": null,
            "grid_area": null,
            "grid_auto_columns": null,
            "grid_auto_flow": null,
            "grid_auto_rows": null,
            "grid_column": null,
            "grid_gap": null,
            "grid_row": null,
            "grid_template_areas": null,
            "grid_template_columns": null,
            "grid_template_rows": null,
            "height": null,
            "justify_content": null,
            "justify_items": null,
            "left": null,
            "margin": null,
            "max_height": null,
            "max_width": null,
            "min_height": null,
            "min_width": null,
            "object_fit": null,
            "object_position": null,
            "order": null,
            "overflow": null,
            "overflow_x": null,
            "overflow_y": null,
            "padding": null,
            "right": null,
            "top": null,
            "visibility": null,
            "width": null
          }
        },
        "298eb85697ae4a49ae1cd6359f3aa6e8": {
          "model_module": "@jupyter-widgets/controls",
          "model_name": "DescriptionStyleModel",
          "model_module_version": "1.5.0",
          "state": {
            "_model_module": "@jupyter-widgets/controls",
            "_model_module_version": "1.5.0",
            "_model_name": "DescriptionStyleModel",
            "_view_count": null,
            "_view_module": "@jupyter-widgets/base",
            "_view_module_version": "1.2.0",
            "_view_name": "StyleView",
            "description_width": ""
          }
        },
        "e975bd51dfa04455bafac5d6b93c258a": {
          "model_module": "@jupyter-widgets/base",
          "model_name": "LayoutModel",
          "model_module_version": "1.2.0",
          "state": {
            "_model_module": "@jupyter-widgets/base",
            "_model_module_version": "1.2.0",
            "_model_name": "LayoutModel",
            "_view_count": null,
            "_view_module": "@jupyter-widgets/base",
            "_view_module_version": "1.2.0",
            "_view_name": "LayoutView",
            "align_content": null,
            "align_items": null,
            "align_self": null,
            "border": null,
            "bottom": null,
            "display": null,
            "flex": null,
            "flex_flow": null,
            "grid_area": null,
            "grid_auto_columns": null,
            "grid_auto_flow": null,
            "grid_auto_rows": null,
            "grid_column": null,
            "grid_gap": null,
            "grid_row": null,
            "grid_template_areas": null,
            "grid_template_columns": null,
            "grid_template_rows": null,
            "height": null,
            "justify_content": null,
            "justify_items": null,
            "left": null,
            "margin": null,
            "max_height": null,
            "max_width": null,
            "min_height": null,
            "min_width": null,
            "object_fit": null,
            "object_position": null,
            "order": null,
            "overflow": null,
            "overflow_x": null,
            "overflow_y": null,
            "padding": null,
            "right": null,
            "top": null,
            "visibility": null,
            "width": null
          }
        },
        "3609d9b84968496caf02ac9a01f7bdf0": {
          "model_module": "@jupyter-widgets/controls",
          "model_name": "ProgressStyleModel",
          "model_module_version": "1.5.0",
          "state": {
            "_model_module": "@jupyter-widgets/controls",
            "_model_module_version": "1.5.0",
            "_model_name": "ProgressStyleModel",
            "_view_count": null,
            "_view_module": "@jupyter-widgets/base",
            "_view_module_version": "1.2.0",
            "_view_name": "StyleView",
            "bar_color": null,
            "description_width": ""
          }
        },
        "c27cc7990a5b49e8995a9faef70d2b33": {
          "model_module": "@jupyter-widgets/base",
          "model_name": "LayoutModel",
          "model_module_version": "1.2.0",
          "state": {
            "_model_module": "@jupyter-widgets/base",
            "_model_module_version": "1.2.0",
            "_model_name": "LayoutModel",
            "_view_count": null,
            "_view_module": "@jupyter-widgets/base",
            "_view_module_version": "1.2.0",
            "_view_name": "LayoutView",
            "align_content": null,
            "align_items": null,
            "align_self": null,
            "border": null,
            "bottom": null,
            "display": null,
            "flex": null,
            "flex_flow": null,
            "grid_area": null,
            "grid_auto_columns": null,
            "grid_auto_flow": null,
            "grid_auto_rows": null,
            "grid_column": null,
            "grid_gap": null,
            "grid_row": null,
            "grid_template_areas": null,
            "grid_template_columns": null,
            "grid_template_rows": null,
            "height": null,
            "justify_content": null,
            "justify_items": null,
            "left": null,
            "margin": null,
            "max_height": null,
            "max_width": null,
            "min_height": null,
            "min_width": null,
            "object_fit": null,
            "object_position": null,
            "order": null,
            "overflow": null,
            "overflow_x": null,
            "overflow_y": null,
            "padding": null,
            "right": null,
            "top": null,
            "visibility": null,
            "width": null
          }
        },
        "56a311bb2ba242f5928ad5ec0da09bc4": {
          "model_module": "@jupyter-widgets/controls",
          "model_name": "DescriptionStyleModel",
          "model_module_version": "1.5.0",
          "state": {
            "_model_module": "@jupyter-widgets/controls",
            "_model_module_version": "1.5.0",
            "_model_name": "DescriptionStyleModel",
            "_view_count": null,
            "_view_module": "@jupyter-widgets/base",
            "_view_module_version": "1.2.0",
            "_view_name": "StyleView",
            "description_width": ""
          }
        }
      }
    }
  },
  "cells": [
    {
      "cell_type": "markdown",
      "metadata": {
        "id": "view-in-github",
        "colab_type": "text"
      },
      "source": [
        "<a href=\"https://colab.research.google.com/github/deep-l3arn3r/tutorials/blob/main/torch_4.ipynb\" target=\"_parent\"><img src=\"https://colab.research.google.com/assets/colab-badge.svg\" alt=\"Open In Colab\"/></a>"
      ]
    },
    {
      "cell_type": "markdown",
      "source": [
        "***Download the dataset***"
      ],
      "metadata": {
        "id": "Etd4tgZ-ZmY6"
      }
    },
    {
      "cell_type": "code",
      "source": [
        "import requests\n",
        "import zipfile\n",
        "from pathlib import Path\n",
        "\n",
        "# Setup path to data folder\n",
        "data_path = Path(\"data/\")\n",
        "image_path = data_path / \"pizza_steak_sushi\"\n",
        "\n",
        "# If the image folder doesn't exist, download it and prepare it...\n",
        "if image_path.is_dir():\n",
        "    print(f\"{image_path} directory exists.\")\n",
        "else:\n",
        "    print(f\"Did not find {image_path} directory, creating one...\")\n",
        "    image_path.mkdir(parents=True, exist_ok=True)\n",
        "\n",
        "    # Download pizza, steak, sushi data\n",
        "    with open(data_path / \"pizza_steak_sushi.zip\", \"wb\") as f:\n",
        "        request = requests.get(\"https://github.com/mrdbourke/pytorch-deep-learning/raw/main/data/pizza_steak_sushi.zip\")\n",
        "        print(\"Downloading pizza, steak, sushi data...\")\n",
        "        f.write(request.content)\n",
        "\n",
        "    # Unzip pizza, steak, sushi data\n",
        "    with zipfile.ZipFile(data_path / \"pizza_steak_sushi.zip\", \"r\") as zip_ref:\n",
        "        print(\"Unzipping pizza, steak, sushi data...\")\n",
        "        zip_ref.extractall(image_path)"
      ],
      "metadata": {
        "colab": {
          "base_uri": "https://localhost:8080/"
        },
        "id": "JTSM9pX5ZRgk",
        "outputId": "b607334c-7e42-42a2-de22-292de3e91e7b"
      },
      "execution_count": 1,
      "outputs": [
        {
          "output_type": "stream",
          "name": "stdout",
          "text": [
            "data/pizza_steak_sushi directory exists.\n"
          ]
        }
      ]
    },
    {
      "cell_type": "code",
      "source": [
        "train_dir = image_path / \"train\"\n",
        "test_dir = image_path / \"test\"\n",
        "\n",
        "train_dir, test_dir"
      ],
      "metadata": {
        "colab": {
          "base_uri": "https://localhost:8080/"
        },
        "id": "dIfD5E5DZSq_",
        "outputId": "43154e5e-0215-40cf-ae26-aa9bb1b7e2a6"
      },
      "execution_count": 2,
      "outputs": [
        {
          "output_type": "execute_result",
          "data": {
            "text/plain": [
              "(PosixPath('data/pizza_steak_sushi/train'),\n",
              " PosixPath('data/pizza_steak_sushi/test'))"
            ]
          },
          "metadata": {},
          "execution_count": 2
        }
      ]
    },
    {
      "cell_type": "code",
      "source": [
        "import torch\n",
        "from torch.utils.data import DataLoader\n",
        "from torchvision import datasets, transforms"
      ],
      "metadata": {
        "id": "nwguZF4jZ3G-"
      },
      "execution_count": 3,
      "outputs": []
    },
    {
      "cell_type": "code",
      "source": [
        "data_transforms = transforms.Compose([\n",
        "    transforms.Resize(size=(64, 64)),\n",
        "    transforms.RandomHorizontalFlip(p=0.5),\n",
        "    transforms.ToTensor()\n",
        "])\n",
        "\n",
        "# Create simple transform\n",
        "simple_transform = transforms.Compose([\n",
        "    transforms.Resize((64, 64)),\n",
        "    transforms.ToTensor(),\n",
        "])"
      ],
      "metadata": {
        "id": "W9QrvFKcaPjD"
      },
      "execution_count": 4,
      "outputs": []
    },
    {
      "cell_type": "code",
      "source": [
        "# 1. Load and transform data\n",
        "from torchvision import datasets\n",
        "train_data_simple = datasets.ImageFolder(root=train_dir, transform=simple_transform)\n",
        "test_data_simple = datasets.ImageFolder(root=test_dir, transform=simple_transform)\n",
        "\n",
        "# 2. Turn data into DataLoaders\n",
        "import os\n",
        "from torch.utils.data import DataLoader\n",
        "\n",
        "# Setup batch size and number of workers\n",
        "BATCH_SIZE = 32\n",
        "NUM_WORKERS = os.cpu_count()\n",
        "print(f\"Creating DataLoader's with batch size {BATCH_SIZE} and {NUM_WORKERS} workers.\")\n",
        "\n",
        "# Create DataLoader's\n",
        "train_dataloader_simple = DataLoader(train_data_simple,\n",
        "                                     batch_size=BATCH_SIZE,\n",
        "                                     shuffle=True,\n",
        "                                     num_workers=NUM_WORKERS)\n",
        "\n",
        "test_dataloader_simple = DataLoader(test_data_simple,\n",
        "                                    batch_size=BATCH_SIZE,\n",
        "                                    shuffle=False,\n",
        "                                    num_workers=NUM_WORKERS)\n",
        "\n",
        "train_dataloader_simple, test_dataloader_simple"
      ],
      "metadata": {
        "colab": {
          "base_uri": "https://localhost:8080/"
        },
        "id": "Vd4qMoFtbchw",
        "outputId": "1f83788b-d3c2-46b8-82a6-be240635859d"
      },
      "execution_count": 5,
      "outputs": [
        {
          "output_type": "stream",
          "name": "stdout",
          "text": [
            "Creating DataLoader's with batch size 32 and 2 workers.\n"
          ]
        },
        {
          "output_type": "execute_result",
          "data": {
            "text/plain": [
              "(<torch.utils.data.dataloader.DataLoader at 0x7c35159856f0>,\n",
              " <torch.utils.data.dataloader.DataLoader at 0x7c3515985d80>)"
            ]
          },
          "metadata": {},
          "execution_count": 5
        }
      ]
    },
    {
      "cell_type": "code",
      "source": [
        "import torch.nn as nn\n",
        "\n",
        "class TinyVGGModel(nn.Module):\n",
        "  def __init__(self, input_dim, hidden_dim, output_dim):\n",
        "\n",
        "    super().__init__()\n",
        "\n",
        "    self.conv1 = nn.Sequential(\n",
        "        nn.Conv2d(\n",
        "            in_channels=input_dim,\n",
        "            out_channels=hidden_dim,\n",
        "            kernel_size=3,\n",
        "            stride=1,\n",
        "            padding=1\n",
        "        ),\n",
        "        nn.ReLU(),\n",
        "        nn.Conv2d(\n",
        "            in_channels=hidden_dim,\n",
        "            out_channels=hidden_dim,\n",
        "            kernel_size=3,\n",
        "            stride=1,\n",
        "            padding=1\n",
        "        ),\n",
        "        nn.ReLU(),\n",
        "        nn.MaxPool2d(kernel_size=2, stride=2)\n",
        "    )\n",
        "\n",
        "    self.conv2 = nn.Sequential(\n",
        "        nn.Conv2d(\n",
        "            in_channels=hidden_dim,\n",
        "            out_channels=hidden_dim,\n",
        "            kernel_size=3,\n",
        "            stride=1,\n",
        "            padding=1\n",
        "        ),\n",
        "        nn.ReLU(),\n",
        "        nn.Conv2d(\n",
        "            in_channels=hidden_dim,\n",
        "            out_channels=hidden_dim,\n",
        "            kernel_size=3,\n",
        "            stride=1,\n",
        "            padding=1\n",
        "        ),\n",
        "        nn.ReLU(),\n",
        "        nn.MaxPool2d(2)\n",
        "    )\n",
        "\n",
        "    self.block3 = nn.Sequential(\n",
        "        nn.Flatten(),\n",
        "        nn.Linear(in_features=16*16*hidden_dim, out_features=output_dim)\n",
        "    )\n",
        "\n",
        "\n",
        "  def forward(self, x):\n",
        "    x = self.conv1(x)\n",
        "\n",
        "    x = self.conv2(x)\n",
        "\n",
        "    x = self.block3(x)\n",
        "\n",
        "    return x"
      ],
      "metadata": {
        "id": "c9jJS4HLcKr2"
      },
      "execution_count": 8,
      "outputs": []
    },
    {
      "cell_type": "code",
      "source": [
        "torch.manual_seed(42)\n",
        "model_0 = TinyVGGModel(input_dim=3, # number of color channels (3 for RGB)\n",
        "                  hidden_dim=5,\n",
        "                  output_dim=len(train_data_simple.classes))\n",
        "model_0"
      ],
      "metadata": {
        "colab": {
          "base_uri": "https://localhost:8080/"
        },
        "id": "6WKh87ZigpTV",
        "outputId": "287a2902-f056-4bef-d259-3c6320a847cb"
      },
      "execution_count": 60,
      "outputs": [
        {
          "output_type": "execute_result",
          "data": {
            "text/plain": [
              "TinyVGGModel(\n",
              "  (conv1): Sequential(\n",
              "    (0): Conv2d(3, 5, kernel_size=(3, 3), stride=(1, 1), padding=(1, 1))\n",
              "    (1): ReLU()\n",
              "    (2): Conv2d(5, 5, kernel_size=(3, 3), stride=(1, 1), padding=(1, 1))\n",
              "    (3): ReLU()\n",
              "    (4): MaxPool2d(kernel_size=2, stride=2, padding=0, dilation=1, ceil_mode=False)\n",
              "  )\n",
              "  (conv2): Sequential(\n",
              "    (0): Conv2d(5, 5, kernel_size=(3, 3), stride=(1, 1), padding=(1, 1))\n",
              "    (1): ReLU()\n",
              "    (2): Conv2d(5, 5, kernel_size=(3, 3), stride=(1, 1), padding=(1, 1))\n",
              "    (3): ReLU()\n",
              "    (4): MaxPool2d(kernel_size=2, stride=2, padding=0, dilation=1, ceil_mode=False)\n",
              "  )\n",
              "  (block3): Sequential(\n",
              "    (0): Flatten(start_dim=1, end_dim=-1)\n",
              "    (1): Linear(in_features=1280, out_features=3, bias=True)\n",
              "  )\n",
              ")"
            ]
          },
          "metadata": {},
          "execution_count": 60
        }
      ]
    },
    {
      "cell_type": "code",
      "source": [
        "def train_step(model, dataloader, loss_fn, optimizer):\n",
        "\n",
        "  model.train()\n",
        "\n",
        "  train_loss, train_accuracy = 0, 0\n",
        "\n",
        "  for batch, (X, y) in enumerate(dataloader):\n",
        "\n",
        "    y_pred_logit = model(X)\n",
        "\n",
        "    loss = loss_fn(y_pred_logit, y)\n",
        "    train_loss += loss.item()\n",
        "\n",
        "    optimizer.zero_grad()\n",
        "\n",
        "    loss.backward()\n",
        "\n",
        "    optimizer.step()\n",
        "\n",
        "    y_pred_class = torch.argmax(y_pred_logit, dim=1)\n",
        "    train_accuracy += (y_pred_class==y).sum().item()/len(y)\n",
        "\n",
        "  train_loss = train_loss/len(dataloader)\n",
        "  train_accuracy = train_accuracy/len(dataloader)\n",
        "\n",
        "  return train_loss, train_accuracy\n",
        "\n",
        "\n",
        "def test_step(model, dataloader, loss_fn):\n",
        "\n",
        "  model.eval()\n",
        "\n",
        "  test_loss, test_accuracy = 0, 0\n",
        "\n",
        "  with torch.inference_mode():\n",
        "\n",
        "    for batch, (X, y) in enumerate(dataloader):\n",
        "\n",
        "      y_pred_logit = model(X)\n",
        "\n",
        "      loss = loss_fn(y_pred_logit, y)\n",
        "      test_loss += loss.item()\n",
        "\n",
        "      y_pred_class = torch.argmax(y_pred_logit, dim=1)\n",
        "      test_accuracy += (y_pred_class==y).sum().item()/len(y)\n",
        "\n",
        "  test_loss = test_loss/len(dataloader)\n",
        "  test_accuracy = test_accuracy/len(dataloader)\n",
        "\n",
        "  return test_loss, test_accuracy"
      ],
      "metadata": {
        "id": "cy0Ng317gtix"
      },
      "execution_count": 61,
      "outputs": []
    },
    {
      "cell_type": "code",
      "source": [
        "from tqdm.auto import tqdm\n",
        "\n",
        "# 1. Take in various parameters required for training and test steps\n",
        "def train(model: torch.nn.Module,\n",
        "          train_dataloader: torch.utils.data.DataLoader,\n",
        "          test_dataloader: torch.utils.data.DataLoader,\n",
        "          optimizer: torch.optim.Optimizer,\n",
        "          loss_fn: torch.nn.Module = nn.CrossEntropyLoss(),\n",
        "          epochs: int = 5):\n",
        "\n",
        "    # 2. Create empty results dictionary\n",
        "    results = {\"train_loss\": [],\n",
        "        \"train_acc\": [],\n",
        "        \"test_loss\": [],\n",
        "        \"test_acc\": []\n",
        "    }\n",
        "\n",
        "    # 3. Loop through training and testing steps for a number of epochs\n",
        "    for epoch in tqdm(range(epochs)):\n",
        "        train_loss, train_acc = train_step(model=model,\n",
        "                                           dataloader=train_dataloader,\n",
        "                                           loss_fn=loss_fn,\n",
        "                                           optimizer=optimizer)\n",
        "        test_loss, test_acc = test_step(model=model,\n",
        "            dataloader=test_dataloader,\n",
        "            loss_fn=loss_fn)\n",
        "\n",
        "        # 4. Print out what's happening\n",
        "        print(\n",
        "            f\"Epoch: {epoch+1} | \"\n",
        "            f\"train_loss: {train_loss:.4f} | \"\n",
        "            f\"train_acc: {train_acc:.4f} | \"\n",
        "            f\"test_loss: {test_loss:.4f} | \"\n",
        "            f\"test_acc: {test_acc:.4f}\"\n",
        "        )\n",
        "\n",
        "        # 5. Update results dictionary\n",
        "        results[\"train_loss\"].append(train_loss)\n",
        "        results[\"train_acc\"].append(train_acc)\n",
        "        results[\"test_loss\"].append(test_loss)\n",
        "        results[\"test_acc\"].append(test_acc)\n",
        "\n",
        "    # 6. Return the filled results at the end of the epochs\n",
        "    return results"
      ],
      "metadata": {
        "id": "R_-K9eLAmKsH"
      },
      "execution_count": 62,
      "outputs": []
    },
    {
      "cell_type": "code",
      "source": [
        "loss_fn = nn.CrossEntropyLoss()\n",
        "optimizer = torch.optim.Adam(params=model_0.parameters(), lr=0.001)"
      ],
      "metadata": {
        "id": "RXGXraEQmS9_"
      },
      "execution_count": 63,
      "outputs": []
    },
    {
      "cell_type": "code",
      "source": [
        "results = train(model_0, train_dataloader_simple, test_dataloader_simple, optimizer, loss_fn, 50)"
      ],
      "metadata": {
        "colab": {
          "base_uri": "https://localhost:8080/",
          "height": 917,
          "referenced_widgets": [
            "1d452f93a4414a5099359f0673e1e8c5",
            "514f18f48718475aa5da03570de51bdf",
            "3027534a5bfc488ea201457c97cdd2ee",
            "f8af63db55884a3fb9325b7bd164eb78",
            "69470d7f3a9348509f9c3843232ecdb3",
            "d7c38d0c1c874a7dbe01fe1eb9c67269",
            "298eb85697ae4a49ae1cd6359f3aa6e8",
            "e975bd51dfa04455bafac5d6b93c258a",
            "3609d9b84968496caf02ac9a01f7bdf0",
            "c27cc7990a5b49e8995a9faef70d2b33",
            "56a311bb2ba242f5928ad5ec0da09bc4"
          ]
        },
        "id": "bkvh_4UImtnr",
        "outputId": "5258ca5c-e4f3-4884-ef60-cb4350f7a297"
      },
      "execution_count": 64,
      "outputs": [
        {
          "output_type": "display_data",
          "data": {
            "text/plain": [
              "  0%|          | 0/50 [00:00<?, ?it/s]"
            ],
            "application/vnd.jupyter.widget-view+json": {
              "version_major": 2,
              "version_minor": 0,
              "model_id": "1d452f93a4414a5099359f0673e1e8c5"
            }
          },
          "metadata": {}
        },
        {
          "output_type": "stream",
          "name": "stdout",
          "text": [
            "Epoch: 1 | train_loss: 1.1013 | train_acc: 0.2227 | test_loss: 1.0985 | test_acc: 0.2604\n",
            "Epoch: 2 | train_loss: 1.0844 | train_acc: 0.4258 | test_loss: 1.1274 | test_acc: 0.2604\n",
            "Epoch: 3 | train_loss: 1.0796 | train_acc: 0.4258 | test_loss: 1.1537 | test_acc: 0.2604\n",
            "Epoch: 4 | train_loss: 1.1276 | train_acc: 0.3047 | test_loss: 1.1585 | test_acc: 0.2604\n",
            "Epoch: 5 | train_loss: 1.1234 | train_acc: 0.3047 | test_loss: 1.1363 | test_acc: 0.2604\n",
            "Epoch: 6 | train_loss: 1.0964 | train_acc: 0.4258 | test_loss: 1.1088 | test_acc: 0.2604\n",
            "Epoch: 7 | train_loss: 1.1005 | train_acc: 0.3047 | test_loss: 1.1061 | test_acc: 0.2604\n",
            "Epoch: 8 | train_loss: 1.1043 | train_acc: 0.3242 | test_loss: 1.1109 | test_acc: 0.1771\n",
            "Epoch: 9 | train_loss: 1.0991 | train_acc: 0.3359 | test_loss: 1.1011 | test_acc: 0.1979\n",
            "Epoch: 10 | train_loss: 1.0996 | train_acc: 0.2734 | test_loss: 1.0912 | test_acc: 0.5417\n",
            "Epoch: 11 | train_loss: 1.0953 | train_acc: 0.4023 | test_loss: 1.0911 | test_acc: 0.5417\n",
            "Epoch: 12 | train_loss: 1.0989 | train_acc: 0.2812 | test_loss: 1.0850 | test_acc: 0.5417\n",
            "Epoch: 13 | train_loss: 1.0904 | train_acc: 0.4141 | test_loss: 1.0877 | test_acc: 0.2803\n",
            "Epoch: 14 | train_loss: 1.0786 | train_acc: 0.4375 | test_loss: 1.0985 | test_acc: 0.2604\n",
            "Epoch: 15 | train_loss: 1.0885 | train_acc: 0.3047 | test_loss: 1.1009 | test_acc: 0.2604\n",
            "Epoch: 16 | train_loss: 1.0754 | train_acc: 0.3047 | test_loss: 1.0680 | test_acc: 0.2604\n",
            "Epoch: 17 | train_loss: 1.0538 | train_acc: 0.4727 | test_loss: 1.0369 | test_acc: 0.5833\n",
            "Epoch: 18 | train_loss: 1.0672 | train_acc: 0.3242 | test_loss: 1.0483 | test_acc: 0.6042\n",
            "Epoch: 19 | train_loss: 1.0821 | train_acc: 0.3359 | test_loss: 1.0913 | test_acc: 0.3816\n",
            "Epoch: 20 | train_loss: 1.0399 | train_acc: 0.5000 | test_loss: 1.0044 | test_acc: 0.6042\n",
            "Epoch: 21 | train_loss: 1.0359 | train_acc: 0.4062 | test_loss: 1.0127 | test_acc: 0.5938\n",
            "Epoch: 22 | train_loss: 0.9484 | train_acc: 0.6562 | test_loss: 1.0470 | test_acc: 0.3523\n",
            "Epoch: 23 | train_loss: 0.9277 | train_acc: 0.6484 | test_loss: 1.0826 | test_acc: 0.3627\n",
            "Epoch: 24 | train_loss: 0.9550 | train_acc: 0.5273 | test_loss: 1.0726 | test_acc: 0.3627\n",
            "Epoch: 25 | train_loss: 0.8845 | train_acc: 0.5938 | test_loss: 1.0678 | test_acc: 0.3428\n",
            "Epoch: 26 | train_loss: 0.9631 | train_acc: 0.5000 | test_loss: 1.0446 | test_acc: 0.4545\n",
            "Epoch: 27 | train_loss: 0.8897 | train_acc: 0.6250 | test_loss: 1.0360 | test_acc: 0.4138\n",
            "Epoch: 28 | train_loss: 0.7871 | train_acc: 0.6914 | test_loss: 1.0229 | test_acc: 0.3930\n",
            "Epoch: 29 | train_loss: 0.7924 | train_acc: 0.7031 | test_loss: 1.0248 | test_acc: 0.4839\n",
            "Epoch: 30 | train_loss: 0.8195 | train_acc: 0.5859 | test_loss: 1.0246 | test_acc: 0.4536\n",
            "Epoch: 31 | train_loss: 0.7396 | train_acc: 0.6445 | test_loss: 1.0835 | test_acc: 0.4138\n",
            "Epoch: 32 | train_loss: 0.7475 | train_acc: 0.6445 | test_loss: 1.0694 | test_acc: 0.4138\n",
            "Epoch: 33 | train_loss: 0.7719 | train_acc: 0.7109 | test_loss: 1.0628 | test_acc: 0.4545\n",
            "Epoch: 34 | train_loss: 0.8397 | train_acc: 0.5781 | test_loss: 1.0160 | test_acc: 0.4432\n",
            "Epoch: 35 | train_loss: 0.7337 | train_acc: 0.6367 | test_loss: 1.0395 | test_acc: 0.3930\n",
            "Epoch: 36 | train_loss: 0.8415 | train_acc: 0.5156 | test_loss: 1.0596 | test_acc: 0.4650\n",
            "Epoch: 37 | train_loss: 0.9534 | train_acc: 0.5859 | test_loss: 1.0857 | test_acc: 0.4754\n",
            "Epoch: 38 | train_loss: 0.8143 | train_acc: 0.5508 | test_loss: 1.1306 | test_acc: 0.3324\n",
            "Epoch: 39 | train_loss: 0.9168 | train_acc: 0.4883 | test_loss: 1.0429 | test_acc: 0.3324\n",
            "Epoch: 40 | train_loss: 0.7735 | train_acc: 0.6875 | test_loss: 0.9946 | test_acc: 0.4754\n",
            "Epoch: 41 | train_loss: 0.8026 | train_acc: 0.5938 | test_loss: 1.0146 | test_acc: 0.4650\n",
            "Epoch: 42 | train_loss: 0.7219 | train_acc: 0.7109 | test_loss: 1.0375 | test_acc: 0.3826\n",
            "Epoch: 43 | train_loss: 0.6545 | train_acc: 0.6875 | test_loss: 1.0066 | test_acc: 0.4953\n",
            "Epoch: 44 | train_loss: 0.7365 | train_acc: 0.5977 | test_loss: 1.0077 | test_acc: 0.4848\n",
            "Epoch: 45 | train_loss: 0.7308 | train_acc: 0.5938 | test_loss: 1.0068 | test_acc: 0.5057\n",
            "Epoch: 46 | train_loss: 0.6666 | train_acc: 0.7305 | test_loss: 1.0357 | test_acc: 0.4138\n",
            "Epoch: 47 | train_loss: 0.6272 | train_acc: 0.7266 | test_loss: 1.0890 | test_acc: 0.3722\n",
            "Epoch: 48 | train_loss: 0.7015 | train_acc: 0.5938 | test_loss: 0.9942 | test_acc: 0.4744\n",
            "Epoch: 49 | train_loss: 0.6667 | train_acc: 0.7734 | test_loss: 0.9289 | test_acc: 0.6051\n",
            "Epoch: 50 | train_loss: 0.6182 | train_acc: 0.7422 | test_loss: 0.9829 | test_acc: 0.5057\n"
          ]
        }
      ]
    },
    {
      "cell_type": "code",
      "source": [],
      "metadata": {
        "id": "WrKTtQdwm9LL"
      },
      "execution_count": null,
      "outputs": []
    }
  ]
}